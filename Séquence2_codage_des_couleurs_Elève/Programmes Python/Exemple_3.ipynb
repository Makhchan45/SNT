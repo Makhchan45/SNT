{
 "cells": [
  {
   "cell_type": "code",
   "execution_count": null,
   "metadata": {},
   "outputs": [],
   "source": [
    "from IPython.display import Image\n",
    "from PIL import Image \n",
    "\n",
    "Exemple_3 = Image.new(\"RGB\",(300,300),(129,167,211)) \n",
    "        \n",
    "for x in range (100,200):\n",
    "    for y in range (100,200):\n",
    "        Exemple_3.putpixel((x,y),(255,220,50))\n",
    "        \n",
    "display(Exemple_3)\n",
    "Exemple_3.save(\".\\Exemple_3.jpg\")"
   ]
  }
 ],
 "metadata": {
  "kernelspec": {
   "display_name": "Python 3",
   "language": "python",
   "name": "python3"
  },
  "language_info": {
   "codemirror_mode": {
    "name": "ipython",
    "version": 3
   },
   "file_extension": ".py",
   "mimetype": "text/x-python",
   "name": "python",
   "nbconvert_exporter": "python",
   "pygments_lexer": "ipython3",
   "version": "3.6.0"
  }
 },
 "nbformat": 4,
 "nbformat_minor": 2
}
