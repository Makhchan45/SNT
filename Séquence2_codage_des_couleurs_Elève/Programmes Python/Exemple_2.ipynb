{
 "cells": [
  {
   "cell_type": "code",
   "execution_count": null,
   "metadata": {},
   "outputs": [],
   "source": [
    "from IPython.display import Image\n",
    "from PIL import Image \n",
    "\n",
    "Exemple_2 =Image.new(\"RGB\",(200,200),(0,0,255)) \n",
    "for x in range (25,175):\n",
    "     Exemple_2.putpixel((x,100),(0,255,0))\n",
    "for y in range (50,150):\n",
    "     Exemple_2.putpixel((150,y),(255,0,0))\n",
    "        \n",
    "display(Exemple_2)\n",
    "Exemple_2.save(\".\\exemple_2.jpg\")"
   ]
  }
 ],
 "metadata": {
  "kernelspec": {
   "display_name": "Python 3",
   "language": "python",
   "name": "python3"
  },
  "language_info": {
   "codemirror_mode": {
    "name": "ipython",
    "version": 3
   },
   "file_extension": ".py",
   "mimetype": "text/x-python",
   "name": "python",
   "nbconvert_exporter": "python",
   "pygments_lexer": "ipython3",
   "version": "3.6.0"
  }
 },
 "nbformat": 4,
 "nbformat_minor": 2
}
