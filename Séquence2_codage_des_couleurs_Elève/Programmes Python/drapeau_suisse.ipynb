{
 "cells": [
  {
   "cell_type": "code",
   "execution_count": null,
   "metadata": {},
   "outputs": [],
   "source": [
    "from IPython.display import Image\n",
    "from PIL import Image \n",
    "\n",
    "drapeau_suisse = Image.new(\"RGB\",(300,200),(255,0,0)) \n",
    "        \n",
    "for x in range (130,170):\n",
    "    for y in range (40,160):\n",
    "        drapeau_suisse.putpixel((x,y),(255,255,255))\n",
    "        \n",
    "for x in range (90,210):\n",
    "    for y in range (80,120):\n",
    "        drapeau_suisse.putpixel((x,y),(255,255,255)) \n",
    "        \n",
    "display(drapeau_suisse)"
   ]
  }
 ],
 "metadata": {
  "kernelspec": {
   "display_name": "Python 3",
   "language": "python",
   "name": "python3"
  },
  "language_info": {
   "codemirror_mode": {
    "name": "ipython",
    "version": 3
   },
   "file_extension": ".py",
   "mimetype": "text/x-python",
   "name": "python",
   "nbconvert_exporter": "python",
   "pygments_lexer": "ipython3",
   "version": "3.6.0"
  }
 },
 "nbformat": 4,
 "nbformat_minor": 2
}
