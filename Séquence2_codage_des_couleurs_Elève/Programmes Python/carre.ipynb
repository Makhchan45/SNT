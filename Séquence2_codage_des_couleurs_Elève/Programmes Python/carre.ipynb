from PIL import Image
carre = Image.new("L",(20,20),100)
carre.show()
