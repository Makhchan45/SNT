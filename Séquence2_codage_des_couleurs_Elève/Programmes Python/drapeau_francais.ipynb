{
 "cells": [
  {
   "cell_type": "code",
   "execution_count": null,
   "metadata": {},
   "outputs": [],
   "source": [
    "from IPython.display import Image\n",
    "from PIL import Image \n",
    "\n",
    "drapeau_français = Image.new(\"RGB\",(300,200)) \n",
    "        \n",
    "for x in range (0,100):\n",
    "    for y in range (0,200):\n",
    "        drapeau_français.putpixel((x,y),(0,0,255))\n",
    "        \n",
    "for x in range (100,200):\n",
    "    for y in range (0,200):\n",
    "        drapeau_français.putpixel((x,y),(255,255,255))\n",
    "        \n",
    "for x in range (200,300):\n",
    "    for y in range (0,200):\n",
    "        drapeau_français.putpixel((x,y),(255,0,0))       \n",
    "        \n",
    "display(drapeau_français)"
   ]
  }
 ],
 "metadata": {
  "kernelspec": {
   "display_name": "Python 3",
   "language": "python",
   "name": "python3"
  },
  "language_info": {
   "codemirror_mode": {
    "name": "ipython",
    "version": 3
   },
   "file_extension": ".py",
   "mimetype": "text/x-python",
   "name": "python",
   "nbconvert_exporter": "python",
   "pygments_lexer": "ipython3",
   "version": "3.6.0"
  }
 },
 "nbformat": 4,
 "nbformat_minor": 2
}
