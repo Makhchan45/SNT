{
 "cells": [
  {
   "cell_type": "code",
   "execution_count": null,
   "metadata": {},
   "outputs": [],
   "source": [
    "from IPython.display import Image\n",
    "from PIL import Image \n",
    "\n",
    "img = Image.new(\"RGB\",(3, 3)) \n",
    "img.putpixel((0,0),(6,250,7)) \n",
    "img.putpixel((1,0),(241,252,23))\n",
    "img.putpixel((2,0),(6,250,7))\n",
    "img.putpixel((0,1),(126,14,203))\n",
    "img.putpixel((1,1),(241,252,23))\n",
    "img.putpixel((2,1),(6,250,7))\n",
    "img.putpixel((0,2),(241,252,23))\n",
    "img.putpixel((1,2),(6,250,7))\n",
    "img.putpixel((2,2),(126,14,203))\n",
    "\n",
    "img.save(\".\\exemple_1.jpg\")\n",
    "display(img)\n",
    "img.show()"
   ]
  }
 ],
 "metadata": {
  "kernelspec": {
   "display_name": "Python 3",
   "language": "python",
   "name": "python3"
  },
  "language_info": {
   "codemirror_mode": {
    "name": "ipython",
    "version": 3
   },
   "file_extension": ".py",
   "mimetype": "text/x-python",
   "name": "python",
   "nbconvert_exporter": "python",
   "pygments_lexer": "ipython3",
   "version": "3.6.0"
  }
 },
 "nbformat": 4,
 "nbformat_minor": 2
}
