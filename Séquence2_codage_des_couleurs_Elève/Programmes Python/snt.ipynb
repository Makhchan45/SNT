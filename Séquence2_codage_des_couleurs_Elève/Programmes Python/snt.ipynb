{
 "cells": [
  {
   "cell_type": "code",
   "execution_count": null,
   "metadata": {},
   "outputs": [],
   "source": [
    "from IPython.display import Image\n",
    "from PIL import Image \n",
    "\n",
    "snt = Image.open(\"snt.jpg\") \n",
    "        \n",
    "for x in range (270,377):\n",
    "    for y in range (20,22):\n",
    "        snt.putpixel((x,y),(102,0,153)) \n",
    "        \n",
    "for x in range (270,377):\n",
    "    for y in range (60,62):\n",
    "        snt.putpixel((x,y),(102,0,153)) \n",
    "                \n",
    "for x in range (270,272):\n",
    "    for y in range (20,62):\n",
    "        snt.putpixel((x,y),(102,0,153)) \n",
    "        \n",
    "for x in range (375,377):\n",
    "    for y in range (20,62):\n",
    "        snt.putpixel((x,y),(102,0,153))\n",
    "        \n",
    "display(snt)"
   ]
  }
 ],
 "metadata": {
  "kernelspec": {
   "display_name": "Python 3",
   "language": "python",
   "name": "python3"
  },
  "language_info": {
   "codemirror_mode": {
    "name": "ipython",
    "version": 3
   },
   "file_extension": ".py",
   "mimetype": "text/x-python",
   "name": "python",
   "nbconvert_exporter": "python",
   "pygments_lexer": "ipython3",
   "version": "3.6.0"
  }
 },
 "nbformat": 4,
 "nbformat_minor": 2
}
